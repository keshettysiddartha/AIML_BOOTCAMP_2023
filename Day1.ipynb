{
  "nbformat": 4,
  "nbformat_minor": 0,
  "metadata": {
    "colab": {
      "provenance": [],
      "authorship_tag": "ABX9TyN5pKQuIiEQ94jMh067eBKI",
      "include_colab_link": true
    },
    "kernelspec": {
      "name": "python3",
      "display_name": "Python 3"
    },
    "language_info": {
      "name": "python"
    }
  },
  "cells": [
    {
      "cell_type": "markdown",
      "metadata": {
        "id": "view-in-github",
        "colab_type": "text"
      },
      "source": [
        "<a href=\"https://colab.research.google.com/github/keshettysiddartha/AIML_BOOTCAMP_2023/blob/main/Day1.ipynb\" target=\"_parent\"><img src=\"https://colab.research.google.com/assets/colab-badge.svg\" alt=\"Open In Colab\"/></a>"
      ]
    },
    {
      "cell_type": "code",
      "execution_count": null,
      "metadata": {
        "colab": {
          "base_uri": "https://localhost:8080/"
        },
        "id": "CNg_9bbo8OPU",
        "outputId": "3be8c59f-6131-4511-b0c0-64d277bd58c6"
      },
      "outputs": [
        {
          "output_type": "stream",
          "name": "stdout",
          "text": [
            "Arithmetuc Operators\n",
            "17\n",
            "3\n",
            "70\n",
            "10000000\n",
            "1.4285714285714286\n",
            "1\n",
            "3\n"
          ]
        }
      ],
      "source": [
        "print(\"Arithmetuc Operators\")\n",
        "a=10\n",
        "b=7\n",
        "\n",
        "print(a+b)\n",
        "print(a-b)\n",
        "print(a*b)\n",
        "print(a**b)\n",
        "print(a/b)\n",
        "print(a//b)\n",
        "print(a%b)"
      ]
    },
    {
      "cell_type": "code",
      "source": [
        "print(\"Assignment Operators\")\n",
        "a=10\n",
        "b=5\n",
        "\n",
        "c=a+b\n",
        "print(c)\n",
        "c-=a\n",
        "print(c)\n",
        "c+=a\n",
        "print(c)\n",
        "c*=a\n",
        "print(c)\n",
        "c/=a\n",
        "print(c)\n",
        "c%=a\n",
        "print(c)"
      ],
      "metadata": {
        "colab": {
          "base_uri": "https://localhost:8080/"
        },
        "id": "ZfBCZcrhBKXw",
        "outputId": "26349d42-138a-492b-a1f6-d1d357e855fd"
      },
      "execution_count": null,
      "outputs": [
        {
          "output_type": "stream",
          "name": "stdout",
          "text": [
            "Assignment Operators\n",
            "15\n",
            "5\n",
            "15\n",
            "150\n",
            "15.0\n",
            "5.0\n"
          ]
        }
      ]
    },
    {
      "cell_type": "code",
      "source": [
        "print(\"Bitwise Operators\")\n",
        "a=14\n",
        "b=10\n",
        "\n",
        "print(a&b)\n",
        "print(a|b)\n",
        "print(-a)\n",
        "print(a^b)\n",
        "print(a>>2)\n",
        "print(a<<2)"
      ],
      "metadata": {
        "colab": {
          "base_uri": "https://localhost:8080/"
        },
        "id": "ufmXvOkiC-I5",
        "outputId": "e4558024-f1a4-4c45-9eea-de25577289e9"
      },
      "execution_count": null,
      "outputs": [
        {
          "output_type": "stream",
          "name": "stdout",
          "text": [
            "Bitwise Operators\n",
            "10\n",
            "14\n",
            "-14\n",
            "4\n",
            "3\n",
            "56\n"
          ]
        }
      ]
    },
    {
      "cell_type": "code",
      "source": [
        "print(\"Membership operator\")\n",
        "x=\"hello world\"\n",
        "print(\"w\" in x)"
      ],
      "metadata": {
        "colab": {
          "base_uri": "https://localhost:8080/"
        },
        "id": "I40uArWIFCBc",
        "outputId": "6888f6e6-20a8-4eb8-851d-bc5ed66e8219"
      },
      "execution_count": null,
      "outputs": [
        {
          "output_type": "stream",
          "name": "stdout",
          "text": [
            "Membership operator\n",
            "True\n"
          ]
        }
      ]
    },
    {
      "cell_type": "code",
      "source": [
        "print(\"identity operators\")\n",
        "x1=5\n",
        "y1=5\n",
        "x2=\"hello\"\n",
        "y2=\"hello\"\n",
        "x3=[1,2,3]\n",
        "y3=[1,2,3]\n",
        "print(x1 is not y1)\n",
        "print(x2 is y2)\n",
        "print(x3 is y3)"
      ],
      "metadata": {
        "colab": {
          "base_uri": "https://localhost:8080/"
        },
        "id": "hCEjP1kwFcWW",
        "outputId": "4f63ed12-57d9-4359-e012-a4fcc1834c2a"
      },
      "execution_count": null,
      "outputs": [
        {
          "output_type": "stream",
          "name": "stdout",
          "text": [
            "identity operators\n",
            "False\n",
            "True\n",
            "False\n"
          ]
        }
      ]
    },
    {
      "cell_type": "code",
      "source": [
        "a=int(input(\"enter a number\"))\n",
        "print(a)\n",
        "\n",
        "b=input(\"enter string\")\n",
        "print(b)"
      ],
      "metadata": {
        "colab": {
          "base_uri": "https://localhost:8080/"
        },
        "id": "4dpl5C4NGN3I",
        "outputId": "b61a4908-94e8-4cda-89c1-544dc3ff9833"
      },
      "execution_count": null,
      "outputs": [
        {
          "output_type": "stream",
          "name": "stdout",
          "text": [
            "enter a number8\n",
            "8\n",
            "enter stringhi\n",
            "hi\n"
          ]
        }
      ]
    },
    {
      "cell_type": "code",
      "source": [
        "#strings\n",
        "\n",
        "str=\"Gradstellar\"\n",
        "print(str[0])\n",
        "print(str[-1])\n",
        "\n",
        "#slicing\n",
        "print(str[0:7:3])\n",
        "\n",
        "#reverse a string\n",
        "print(str[::-1])\n",
        "\n",
        "#string methods\n",
        "my_str=\"My name is Siddu\"\n",
        "print(my_str.upper())\n",
        "print(my_str.lower())\n",
        "print(my_str.swapcase())"
      ],
      "metadata": {
        "colab": {
          "base_uri": "https://localhost:8080/"
        },
        "id": "mk63YQJPGevy",
        "outputId": "2ae34e3a-568d-4de3-a03b-e3ee06e58c93"
      },
      "execution_count": null,
      "outputs": [
        {
          "output_type": "stream",
          "name": "stdout",
          "text": [
            "G\n",
            "r\n",
            "Gde\n",
            "ralletsdarG\n",
            "MY NAME IS SIDDU\n",
            "my name is siddu\n",
            "mY NAME IS sIDDU\n"
          ]
        }
      ]
    },
    {
      "cell_type": "code",
      "source": [
        "#string formats\n",
        "name=\"siddu\"\n",
        "Language=\"C++\"\n",
        "year=2022\n",
        "\n",
        "print(name,\"is teaching\",Language,\"programming in\",year)\n",
        "\n",
        "#format\n",
        "print(\"{} is teaching {} programming in {}\".format(name,Language,year))\n",
        "\n",
        "#rawstring \n",
        "print(f\"{name} is teaching {Language} programming in {year}\")"
      ],
      "metadata": {
        "colab": {
          "base_uri": "https://localhost:8080/"
        },
        "id": "7Jel27gWKQD2",
        "outputId": "633c2670-60ac-4480-fe41-f4492f9eb6c0"
      },
      "execution_count": null,
      "outputs": [
        {
          "output_type": "stream",
          "name": "stdout",
          "text": [
            "siddu is teaching C++ programming in 2022\n",
            "siddu is teaching C++ programming in 2022\n",
            "siddu is teaching C++ programming in 2022\n"
          ]
        }
      ]
    },
    {
      "cell_type": "code",
      "source": [
        "#lists\n",
        "my_list=[1,2,3,4]\n",
        "my_list1=[1,\"hello\",\"3.0\"]\n",
        "my_list2=[\"apple\",\"banana\",\"cherry\"]\n",
        "\n",
        "#indexing\n",
        "print(my_list[2])\n",
        "print(my_list[-1])\n",
        "\n",
        "#slicing\n",
        "print(my_list[:3])\n",
        "\n",
        "#nested list\n",
        "N_list=[\"dragonfruit\",my_list,my_list[1]]\n",
        "\n",
        "print(N_list[0][0:6])\n",
        "\n",
        "my_list.append(5)\n",
        "print(my_list)\n",
        "\n",
        "l1=[4,2,5,9,7,3,24,6,4,5,4,9]\n",
        "\n",
        "print(l1.count(4))\n",
        "print(len(l1))\n",
        "print(l1(::-1))\n",
        "\n",
        "l1.reverse()\n",
        "print(l1)"
      ],
      "metadata": {
        "colab": {
          "base_uri": "https://localhost:8080/",
          "height": 130
        },
        "id": "cIsgNCx7LxpE",
        "outputId": "04066852-fba9-43fa-ac49-fa471e9a2780"
      },
      "execution_count": null,
      "outputs": [
        {
          "output_type": "error",
          "ename": "SyntaxError",
          "evalue": "ignored",
          "traceback": [
            "\u001b[0;36m  File \u001b[0;32m\"<ipython-input-17-1b88960102ce>\"\u001b[0;36m, line \u001b[0;32m25\u001b[0m\n\u001b[0;31m    print(l1(::-1))\u001b[0m\n\u001b[0m             ^\u001b[0m\n\u001b[0;31mSyntaxError\u001b[0m\u001b[0;31m:\u001b[0m invalid syntax\n"
          ]
        }
      ]
    }
  ]
}