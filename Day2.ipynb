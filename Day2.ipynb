{
  "nbformat": 4,
  "nbformat_minor": 0,
  "metadata": {
    "colab": {
      "provenance": [],
      "authorship_tag": "ABX9TyNT2xpsn0IP1JuLm5hE08U2",
      "include_colab_link": true
    },
    "kernelspec": {
      "name": "python3",
      "display_name": "Python 3"
    },
    "language_info": {
      "name": "python"
    }
  },
  "cells": [
    {
      "cell_type": "markdown",
      "metadata": {
        "id": "view-in-github",
        "colab_type": "text"
      },
      "source": [
        "<a href=\"https://colab.research.google.com/github/keshettysiddartha/AIML_BOOTCAMP_2023/blob/main/Day2.ipynb\" target=\"_parent\"><img src=\"https://colab.research.google.com/assets/colab-badge.svg\" alt=\"Open In Colab\"/></a>"
      ]
    },
    {
      "cell_type": "code",
      "execution_count": null,
      "metadata": {
        "id": "sFicv5eaI2se",
        "colab": {
          "base_uri": "https://localhost:8080/"
        },
        "outputId": "8f87fdca-8d0c-4028-c456-77839a5db882"
      },
      "outputs": [
        {
          "output_type": "stream",
          "name": "stdout",
          "text": [
            "('HELLO', (1, 2, 3, 4), ('h1', 1.25, 8))\n",
            "8\n",
            "2\n",
            "4\n",
            "1\n",
            "4\n"
          ]
        }
      ],
      "source": [
        "#tuples\n",
        "tup=(1,2,3,4)\n",
        "tup1=(\"h1\",1.25,8)\n",
        "tup2=(\"HELLO\",tup,tup1)\n",
        "print(tup2)\n",
        "print(tup2[-1][-1])\n",
        "\n",
        "#tuple methods\n",
        "\n",
        "\n",
        "print(tup.index(3))\n",
        "print(max(tup))\n",
        "print(min(tup))\n",
        "print(len(tup))\n"
      ]
    },
    {
      "cell_type": "code",
      "source": [
        "#sets\n",
        "set={1,2,3,4}\n",
        "set1={4,5.0,6,\"hi\"}\n",
        "\n",
        "l=[1,9,85]\n",
        "print(l)\n",
        "\n",
        "\n",
        "\n",
        "#set methods\n",
        "set.add(5)\n",
        "print(set)\n",
        "\n",
        "set.update([7,8])\n",
        "print(set)\n",
        "\n",
        "set.discard(3)\n",
        "print(set)\n",
        "\n",
        "set.remove(4)\n",
        "print(set)\n",
        "\n",
        "#set operations\n",
        "a={1,2,3,4,5}\n",
        "b={4,5,6,7,8}\n",
        "\n",
        "#union\n",
        "print(a|b)\n",
        "print(a.union(b))\n",
        "print(b.union(a))\n",
        "\n",
        "#intersection\n",
        "print(a&b)\n",
        "print(a.intersection(b))\n",
        "print(b.intersection(a))\n",
        "\n",
        "#difference\n",
        "print"
      ],
      "metadata": {
        "colab": {
          "base_uri": "https://localhost:8080/"
        },
        "id": "7fe6ZZDpNsHI",
        "outputId": "6b1a533f-5571-4aca-928f-e8d4ee9d23ae"
      },
      "execution_count": null,
      "outputs": [
        {
          "output_type": "stream",
          "name": "stdout",
          "text": [
            "[1, 9, 85]\n",
            "{1, 2, 3, 4, 5}\n",
            "{1, 2, 3, 4, 5, 7, 8}\n",
            "{1, 2, 4, 5, 7, 8}\n",
            "{1, 2, 5, 7, 8}\n",
            "{1, 2, 3, 4, 5, 6, 7, 8}\n",
            "{1, 2, 3, 4, 5, 6, 7, 8}\n",
            "{1, 2, 3, 4, 5, 6, 7, 8}\n",
            "{4, 5}\n",
            "{4, 5}\n",
            "{4, 5}\n"
          ]
        },
        {
          "output_type": "execute_result",
          "data": {
            "text/plain": [
              "<function print>"
            ]
          },
          "metadata": {},
          "execution_count": 13
        }
      ]
    },
    {
      "cell_type": "code",
      "source": [
        "#dictionaries\n",
        "dict={'name':'gradstellar',102:'english'}\n",
        "print(dict['name'])\n",
        "print(dict.keys())\n",
        "print(dict.values())\n",
        "print(dict.get(\"name\"))"
      ],
      "metadata": {
        "colab": {
          "base_uri": "https://localhost:8080/"
        },
        "id": "SS--Ery-QE01",
        "outputId": "54002028-8b6a-49db-88f3-864666a9915e"
      },
      "execution_count": null,
      "outputs": [
        {
          "output_type": "stream",
          "name": "stdout",
          "text": [
            "gradstellar\n",
            "dict_keys(['name', 102])\n",
            "dict_values(['gradstellar', 'english'])\n",
            "gradstellar\n"
          ]
        }
      ]
    }
  ]
}